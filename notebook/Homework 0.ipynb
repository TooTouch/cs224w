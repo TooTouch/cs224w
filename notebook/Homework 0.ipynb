{
 "cells": [
  {
   "cell_type": "code",
   "execution_count": 1,
   "metadata": {},
   "outputs": [],
   "source": [
    "import snap\n",
    "import pandas as pd\n",
    "import numpy as np\n",
    "\n",
    "import matplotlib.pyplot as plt"
   ]
  },
  {
   "cell_type": "markdown",
   "metadata": {},
   "source": [
    "# Analyzing the Wikipedia voters network [27 points]"
   ]
  },
  {
   "cell_type": "markdown",
   "metadata": {},
   "source": [
    "Example Graph"
   ]
  },
  {
   "cell_type": "code",
   "execution_count": 2,
   "metadata": {},
   "outputs": [],
   "source": [
    "G = snap.TNGraph.New()\n",
    "nodes = [1,2,3]\n",
    "edges = [(1,2),(2,1),(1,3),(1,1)]\n",
    "for node in nodes:\n",
    "    G.AddNode(node)\n",
    "for edge in edges:\n",
    "    G.AddEdge(edge[0], edge[1])"
   ]
  },
  {
   "cell_type": "markdown",
   "metadata": {},
   "source": [
    "Load `wiki-Vote.txt` graph data"
   ]
  },
  {
   "cell_type": "code",
   "execution_count": 3,
   "metadata": {},
   "outputs": [],
   "source": [
    "wiki_G = snap.LoadEdgeList(snap.PNGraph, \"../data/wiki-Vote.txt\",0,1)"
   ]
  },
  {
   "cell_type": "markdown",
   "metadata": {},
   "source": [
    "1. The number of nodes in the network. (G small has 3 nodes.)"
   ]
  },
  {
   "cell_type": "code",
   "execution_count": 4,
   "metadata": {},
   "outputs": [
    {
     "name": "stdout",
     "output_type": "stream",
     "text": [
      "The number of nodes in G small:  3\n"
     ]
    }
   ],
   "source": [
    "print('The number of nodes in G small: ',G.GetNodes())"
   ]
  },
  {
   "cell_type": "code",
   "execution_count": 5,
   "metadata": {},
   "outputs": [
    {
     "name": "stdout",
     "output_type": "stream",
     "text": [
      "The number of nodes in the Wikipedia voters network:  7115\n"
     ]
    }
   ],
   "source": [
    "print('The number of nodes in the Wikipedia voters network: ',wiki_G.GetNodes())"
   ]
  },
  {
   "cell_type": "markdown",
   "metadata": {},
   "source": [
    "2. The number of nodes with a self-edge (self-loop), i.e., the number of nodes a ∈ V where\n",
    "(a, a) ∈ E. (G small has 1 self-edge.)"
   ]
  },
  {
   "cell_type": "code",
   "execution_count": 6,
   "metadata": {
    "scrolled": true
   },
   "outputs": [
    {
     "name": "stdout",
     "output_type": "stream",
     "text": [
      "G_small has 1 self-edge.\n"
     ]
    }
   ],
   "source": [
    "print(f'G_small has {G.CntSelfEdges()} self-edge.')"
   ]
  },
  {
   "cell_type": "code",
   "execution_count": 7,
   "metadata": {},
   "outputs": [
    {
     "name": "stdout",
     "output_type": "stream",
     "text": [
      "The Wikipedia voters network has 0 self-edge.\n"
     ]
    }
   ],
   "source": [
    "print(f'The Wikipedia voters network has {wiki_G.CntSelfEdges()} self-edge.')"
   ]
  },
  {
   "cell_type": "markdown",
   "metadata": {},
   "source": [
    "3. The number of directed edges in the network, i.e., the number of ordered pairs (a, b) ∈ E\n",
    "for which a $\\neq$ b. (G small has 3 directed edges.)"
   ]
  },
  {
   "cell_type": "code",
   "execution_count": 8,
   "metadata": {
    "scrolled": true
   },
   "outputs": [
    {
     "name": "stdout",
     "output_type": "stream",
     "text": [
      "The number of directed edges in G small: 3\n"
     ]
    }
   ],
   "source": [
    "print('The number of directed edges in G small:',G.GetEdges() - G.CntSelfEdges())"
   ]
  },
  {
   "cell_type": "code",
   "execution_count": 9,
   "metadata": {},
   "outputs": [
    {
     "name": "stdout",
     "output_type": "stream",
     "text": [
      "The number of directed edges in the Wikipedia voters network: 103689\n"
     ]
    }
   ],
   "source": [
    "print('The number of directed edges in the Wikipedia voters network:',wiki_G.GetEdges() - wiki_G.CntSelfEdges())"
   ]
  },
  {
   "cell_type": "markdown",
   "metadata": {},
   "source": [
    "4. The number of undirected edges in the network, i.e., the number of unique unordered pairs\n",
    "(a, b), a $\\neq$ b, for which (a, b) ∈ E or (b, a) ∈ E (or both). If both (a, b) and (b, a) are edges,\n",
    "this counts a single undirected edge. (G small has 2 undirected edges.)"
   ]
  },
  {
   "cell_type": "code",
   "execution_count": 11,
   "metadata": {
    "scrolled": true
   },
   "outputs": [
    {
     "name": "stdout",
     "output_type": "stream",
     "text": [
      "The number of undirected edges in G small: 2\n"
     ]
    }
   ],
   "source": [
    "print('The number of undirected edges in G small:', G.CntUniqUndirEdges())"
   ]
  },
  {
   "cell_type": "code",
   "execution_count": 12,
   "metadata": {},
   "outputs": [
    {
     "name": "stdout",
     "output_type": "stream",
     "text": [
      "The number of undirected edges in the Wikipedia voters network: 100762\n"
     ]
    }
   ],
   "source": [
    "print('The number of undirected edges in the Wikipedia voters network:', wiki_G.CntUniqUndirEdges())"
   ]
  },
  {
   "cell_type": "markdown",
   "metadata": {},
   "source": [
    "5. The number of reciprocated edges in the network, i.e., the number of unique unordered\n",
    "pairs of nodes (a, b), a $\\neq$ b, for which (a, b) ∈ E and (b, a) ∈ E. (G small has 1 reciprocated\n",
    "edge.)"
   ]
  },
  {
   "cell_type": "code",
   "execution_count": 13,
   "metadata": {},
   "outputs": [],
   "source": [
    "def calc_reciprocated_edges(graph):\n",
    "    \"\"\"\n",
    "    Calculate the number of reciprocated-edges in a graph\n",
    "\n",
    "    Args:\n",
    "    - graph: Graph class. i.e. snap.PNGraph\n",
    "\n",
    "    Return:\n",
    "    - int(len(reciprocated_edges)/2): the number of reciprocated_edges\n",
    "\n",
    "    \"\"\"\n",
    "    reciprocated_edges = set()\n",
    "    \n",
    "    for EI in graph.Edges():\n",
    "        u = EI.GetSrcNId()\n",
    "        v = EI.GetDstNId()\n",
    "        reciprocated_edges.add((u,v))\n",
    "        \n",
    "        if (u==v):\n",
    "            reciprocated_edges.remove((u,v))\n",
    "    \n",
    "    for EI in graph.Edges():\n",
    "        u = EI.GetSrcNId()\n",
    "        v = EI.GetDstNId()\n",
    "        if (u!=v) and (v,u) not in reciprocated_edges:\n",
    "            reciprocated_edges.remove((u, v))\n",
    "            \n",
    "    return int(len(reciprocated_edges) / 2)"
   ]
  },
  {
   "cell_type": "code",
   "execution_count": 43,
   "metadata": {
    "scrolled": true
   },
   "outputs": [
    {
     "name": "stdout",
     "output_type": "stream",
     "text": [
      "The number of reciprocated edges in G small: 1\n"
     ]
    }
   ],
   "source": [
    "print('The number of reciprocated edges in G small:', G.CntUniqBiDirEdges())"
   ]
  },
  {
   "cell_type": "code",
   "execution_count": 44,
   "metadata": {},
   "outputs": [
    {
     "name": "stdout",
     "output_type": "stream",
     "text": [
      "The number of reciprocated edges in the Wikipedia voters network: 2927\n"
     ]
    }
   ],
   "source": [
    "print('The number of reciprocated edges in the Wikipedia voters network:', wiki_G.CntUniqBiDirEdges())"
   ]
  },
  {
   "cell_type": "markdown",
   "metadata": {},
   "source": [
    "6. The number of nodes of zero out-degree. (G small has 1 node with zero out-degree.)"
   ]
  },
  {
   "cell_type": "code",
   "execution_count": 16,
   "metadata": {
    "scrolled": true
   },
   "outputs": [
    {
     "name": "stdout",
     "output_type": "stream",
     "text": [
      "The number of nodes of zero out-degree in G small: 1\n"
     ]
    }
   ],
   "source": [
    "print('The number of nodes of zero out-degree in G small:',\n",
    "      np.sum([1 if NI.GetOutDeg()==0 else 0 for NI in G.Nodes()]))"
   ]
  },
  {
   "cell_type": "code",
   "execution_count": 17,
   "metadata": {},
   "outputs": [
    {
     "name": "stdout",
     "output_type": "stream",
     "text": [
      "The number of nodes of zero out-degree in the Wikipedia voters network: 1005\n"
     ]
    }
   ],
   "source": [
    "print('The number of nodes of zero out-degree in the Wikipedia voters network:', \n",
    "       np.sum([1 if NI.GetOutDeg()==0 else 0 for NI in wiki_G.Nodes()]))"
   ]
  },
  {
   "cell_type": "markdown",
   "metadata": {},
   "source": [
    "7. The number of nodes of zero in-degree. (G small has 0 nodes with zero in-degree.)"
   ]
  },
  {
   "cell_type": "code",
   "execution_count": 18,
   "metadata": {
    "scrolled": true
   },
   "outputs": [
    {
     "name": "stdout",
     "output_type": "stream",
     "text": [
      "The number of nodes of zero out-degree in G small: 0\n"
     ]
    }
   ],
   "source": [
    "print('The number of nodes of zero out-degree in G small:',\n",
    "      np.sum([1 if NI.GetInDeg()==0 else 0 for NI in G.Nodes()]))"
   ]
  },
  {
   "cell_type": "code",
   "execution_count": 19,
   "metadata": {},
   "outputs": [
    {
     "name": "stdout",
     "output_type": "stream",
     "text": [
      "The number of nodes of zero out-degree in the Wikipedia voters network: 4734\n"
     ]
    }
   ],
   "source": [
    "print('The number of nodes of zero out-degree in the Wikipedia voters network:', \n",
    "       np.sum([1 if NI.GetInDeg()==0 else 0 for NI in wiki_G.Nodes()]))"
   ]
  },
  {
   "cell_type": "markdown",
   "metadata": {},
   "source": [
    "8. The number of nodes with more than 10 outgoing edges (out-degree > 10)."
   ]
  },
  {
   "cell_type": "code",
   "execution_count": 20,
   "metadata": {
    "scrolled": true
   },
   "outputs": [
    {
     "name": "stdout",
     "output_type": "stream",
     "text": [
      "The number of nodes of zero out-degree in G small: 0\n"
     ]
    }
   ],
   "source": [
    "print('The number of nodes of zero out-degree in G small:',\n",
    "      np.sum([1 if NI.GetOutDeg()>10 else 0 for NI in G.Nodes()]))"
   ]
  },
  {
   "cell_type": "code",
   "execution_count": 21,
   "metadata": {},
   "outputs": [
    {
     "name": "stdout",
     "output_type": "stream",
     "text": [
      "The number of nodes of zero out-degree in the Wikipedia voters network: 1612\n"
     ]
    }
   ],
   "source": [
    "print('The number of nodes of zero out-degree in the Wikipedia voters network:', \n",
    "       np.sum([1 if NI.GetOutDeg()>10 else 0 for NI in wiki_G.Nodes()]))"
   ]
  },
  {
   "cell_type": "markdown",
   "metadata": {},
   "source": [
    "9. The number of nodes with fewer than 10 incoming edges (in-degree < 10)."
   ]
  },
  {
   "cell_type": "code",
   "execution_count": 22,
   "metadata": {
    "scrolled": true
   },
   "outputs": [
    {
     "name": "stdout",
     "output_type": "stream",
     "text": [
      "The number of nodes of zero out-degree in G small: 3\n"
     ]
    }
   ],
   "source": [
    "print('The number of nodes of zero out-degree in G small:',\n",
    "      np.sum([1 if NI.GetInDeg()<10 else 0 for NI in G.Nodes()]))"
   ]
  },
  {
   "cell_type": "code",
   "execution_count": 23,
   "metadata": {},
   "outputs": [
    {
     "name": "stdout",
     "output_type": "stream",
     "text": [
      "The number of nodes of zero out-degree in the Wikipedia voters network: 5165\n"
     ]
    }
   ],
   "source": [
    "print('The number of nodes of zero out-degree in the Wikipedia voters network:', \n",
    "       np.sum([1 if NI.GetInDeg()<10 else 0 for NI in wiki_G.Nodes()]))"
   ]
  },
  {
   "cell_type": "markdown",
   "metadata": {},
   "source": [
    "# Further Analyzing the Wikipedia voters network [33 points]"
   ]
  },
  {
   "cell_type": "markdown",
   "metadata": {},
   "source": [
    "1. (18 points) Plot the distribution of out-degrees of nodes in the network on a log-log scale.\n",
    "Each data point is a pair (x, y) where x is a positive integer and y is the number of nodes\n",
    "in the network with out-degree equal to x. Restrict the range of x between the minimum\n",
    "and maximum out-degrees. You may filter out data points with a 0 entry. For the log-log\n",
    "scale, use base 10 for both x and y axes."
   ]
  },
  {
   "cell_type": "code",
   "execution_count": 24,
   "metadata": {},
   "outputs": [],
   "source": [
    "outdeg = pd.Series([NI.GetOutDeg() for NI in wiki_G.Nodes()]).value_counts().sort_index()"
   ]
  },
  {
   "cell_type": "code",
   "execution_count": 55,
   "metadata": {},
   "outputs": [
    {
     "data": {
      "image/png": "[encoded data removed]",
      "text/plain": [
       "<Figure size 432x288 with 1 Axes>"
      ]
     },
     "metadata": {
      "needs_background": "light"
     },
     "output_type": "display_data"
    }
   ],
   "source": [
    "plt.plot(np.log10(outdeg.iloc[1:].index), np.log10(outdeg.iloc[1:]))\n",
    "plt.title('Out-degree distribution of the Wikipedia voters network in log-log scale plot')\n",
    "plt.xlabel('log(out-degree)')\n",
    "plt.ylabel('log(The number of out-degree)')\n",
    "plt.show()"
   ]
  },
  {
   "cell_type": "markdown",
   "metadata": {},
   "source": [
    "2. (15 points) Compute and plot the least-square regression line for the out-degree distribution\n",
    "in the log-log scale plot. Note we want to find coefficients a and b such that the function\n",
    "log 10 y = a · log 10 x + b, equivalently, y = 10 b · x a , best fits the out-degree distribution.\n",
    "What are the coefficients a and b? For this part, you might want to use the method called\n",
    "polyfit in NumPy with deg parameter equal to 1."
   ]
  },
  {
   "cell_type": "code",
   "execution_count": 49,
   "metadata": {},
   "outputs": [
    {
     "name": "stdout",
     "output_type": "stream",
     "text": [
      "log 10 y = -1.2810647056745657 log 10 x + 3.1324547044999123\n"
     ]
    }
   ],
   "source": [
    "p = np.polyfit(x=np.log10(outdeg.iloc[1:].index), y=np.log10(outdeg.iloc[1:]), deg=1)\n",
    "print(f'log 10 y = {p[0]} log 10 x + {p[1]}')"
   ]
  },
  {
   "cell_type": "code",
   "execution_count": 54,
   "metadata": {},
   "outputs": [
    {
     "data": {
      "image/png": "[encoded data removed]",
      "text/plain": [
       "<Figure size 432x288 with 1 Axes>"
      ]
     },
     "metadata": {
      "needs_background": "light"
     },
     "output_type": "display_data"
    }
   ],
   "source": [
    "plt.plot(np.log10(outdeg.iloc[1:].index), np.log10(outdeg.iloc[1:]))\n",
    "plt.title('Linear regression for out-degree distribution of the Wikiperdia voters network \\nin log-log sale-plot')\n",
    "plt.xlabel('log(out-degree)')\n",
    "plt.ylabel('log(The number of out-degree)')\n",
    "\n",
    "plt.plot(np.log10(outdeg.iloc[1:].index), p[0]*np.log10(outdeg.iloc[1:].index) + p[1])\n",
    "plt.show()"
   ]
  },
  {
   "cell_type": "markdown",
   "metadata": {},
   "source": [
    "# Finding Experts on the Java Programming Language on StackOverflow [40 points]"
   ]
  },
  {
   "cell_type": "markdown",
   "metadata": {},
   "source": [
    "Load `stackoverflow-Java.txt` graph data"
   ]
  },
  {
   "cell_type": "code",
   "execution_count": 28,
   "metadata": {},
   "outputs": [],
   "source": [
    "stack_G = snap.LoadEdgeList(snap.PNGraph, \"../data/stackoverflow-Java.txt\",0,1)"
   ]
  },
  {
   "cell_type": "markdown",
   "metadata": {},
   "source": [
    "1. The number of weakly connected components in the network. This value can be calculated\n",
    "in Snap.py via function GetWccs."
   ]
  },
  {
   "cell_type": "code",
   "execution_count": 29,
   "metadata": {},
   "outputs": [],
   "source": [
    "components = stack_G.GetWccs()"
   ]
  },
  {
   "cell_type": "code",
   "execution_count": 30,
   "metadata": {},
   "outputs": [
    {
     "name": "stdout",
     "output_type": "stream",
     "text": [
      "The number of weakly connected components in the StackOverflow-Java network:  10143\n"
     ]
    }
   ],
   "source": [
    "print('The number of weakly connected components in the StackOverflow-Java network: ',len(components))"
   ]
  },
  {
   "cell_type": "markdown",
   "metadata": {},
   "source": [
    "2. The number of edges and the number of nodes in the largest weakly connected component.\n",
    "The largest weakly connected component is calculated in Snap.py with function GetMxWcc."
   ]
  },
  {
   "cell_type": "code",
   "execution_count": 31,
   "metadata": {},
   "outputs": [
    {
     "name": "stdout",
     "output_type": "stream",
     "text": [
      "The number of nodes in the largest weakly connected component: 131188\n",
      "The number of edges in the largest weakly connected component: 322486\n"
     ]
    }
   ],
   "source": [
    "max_component = stack_G.GetMxWcc()\n",
    "print('The number of nodes in the largest weakly connected component:',max_component.GetNodes())\n",
    "print('The number of edges in the largest weakly connected component:',max_component.GetEdges())"
   ]
  },
  {
   "cell_type": "markdown",
   "metadata": {},
   "source": [
    "3. IDs of the top 3 most central nodes in the network by PagePank scores. PageRank scores\n",
    "are calculated in Snap.py with function GetPageRank."
   ]
  },
  {
   "cell_type": "code",
   "execution_count": 32,
   "metadata": {},
   "outputs": [],
   "source": [
    "PRankH = stack_G.GetPageRank()\n",
    "PRankH.SortByDat(False)"
   ]
  },
  {
   "cell_type": "code",
   "execution_count": 33,
   "metadata": {},
   "outputs": [
    {
     "name": "stdout",
     "output_type": "stream",
     "text": [
      "IDs of the top 3 most central nodes in the StackOverflow-Java network\n",
      "992484: 0.013980540412209575\n",
      "135152: 0.010005538895741885\n",
      "22656: 0.007103532693128619\n"
     ]
    }
   ],
   "source": [
    "print('IDs of the top 3 most central nodes in the StackOverflow-Java network')\n",
    "for i in range(3):\n",
    "    print(f'{PRankH.GetKey(i)}: {PRankH[PRankH.GetKey(i)]}')"
   ]
  },
  {
   "cell_type": "markdown",
   "metadata": {},
   "source": [
    "4. IDs of the top 3 hubs and top 3 authorities in the network by HITS scores. HITS scores\n",
    "are calculated in Snap.py with function GetHits."
   ]
  },
  {
   "cell_type": "code",
   "execution_count": 34,
   "metadata": {},
   "outputs": [],
   "source": [
    "NIdHubH, NIdAuthH = stack_G.GetHits()\n",
    "NIdHubH.SortByDat(False)\n",
    "NIdAuthH.SortByDat(False)"
   ]
  },
  {
   "cell_type": "code",
   "execution_count": 35,
   "metadata": {},
   "outputs": [
    {
     "name": "stdout",
     "output_type": "stream",
     "text": [
      "IDs of the top 3 hubs in the StackOverflow-Java network\n",
      "892029: 0.07336380373389548\n",
      "1194415: 0.05955074418794487\n",
      "359862: 0.05687564588068672\n"
     ]
    }
   ],
   "source": [
    "print('IDs of the top 3 hubs in the StackOverflow-Java network')\n",
    "for i in range(3):\n",
    "    print(f'{NIdHubH.GetKey(i)}: {NIdHubH[NIdHubH.GetKey(i)]}')"
   ]
  },
  {
   "cell_type": "code",
   "execution_count": 36,
   "metadata": {},
   "outputs": [
    {
     "name": "stdout",
     "output_type": "stream",
     "text": [
      "IDs of the top 3 authorities in the StackOverflow-Java network\n",
      "22656: 0.6047239730413133\n",
      "157882: 0.2986993488728824\n",
      "571407: 0.2839071934144654\n"
     ]
    }
   ],
   "source": [
    "print('IDs of the top 3 authorities in the StackOverflow-Java network')\n",
    "for i in range(3):\n",
    "    print(f'{NIdAuthH.GetKey(i)}: {NIdAuthH[NIdAuthH.GetKey(i)]}')"
   ]
  }
 ],
 "metadata": {
  "kernelspec": {
   "display_name": "Python 3",
   "language": "python",
   "name": "python3"
  },
  "language_info": {
   "codemirror_mode": {
    "name": "ipython",
    "version": 3
   },
   "file_extension": ".py",
   "mimetype": "text/x-python",
   "name": "python",
   "nbconvert_exporter": "python",
   "pygments_lexer": "ipython3",
   "version": "3.8.3"
  }
 },
 "nbformat": 4,
 "nbformat_minor": 4
}
