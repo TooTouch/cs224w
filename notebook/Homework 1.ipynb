{
 "cells": [
  {
   "cell_type": "code",
   "execution_count": 1,
   "metadata": {},
   "outputs": [],
   "source": [
    "import numpy as np\n",
    "import itertools\n",
    "import snap\n",
    "\n",
    "import sys\n",
    "sys.path.append('../')\n",
    "\n",
    "import matplotlib.pyplot as plt\n",
    "\n",
    "from graph_utils import *"
   ]
  },
  {
   "cell_type": "markdown",
   "metadata": {},
   "source": [
    "# Network Characteristics [25 points]"
   ]
  },
  {
   "cell_type": "markdown",
   "metadata": {},
   "source": [
    "Erdős-Rényi Random graph (G(n, m) random network): Generate a random instance of this model by using n = 5242 nodes and picking m = 14484 edges at random. Write code to construct instances of this model, i.e., do not call a SNAP function."
   ]
  },
  {
   "cell_type": "code",
   "execution_count": 2,
   "metadata": {},
   "outputs": [],
   "source": [
    "def create_erdos_renyi_random_graph(N: int, E: int, p: float):\n",
    "    \"\"\"\n",
    "    Erdős-Rényi Random Graph\n",
    "    \n",
    "    This is a undirected graph that has nodes connected with random probability (binomial distribution)\n",
    "    \n",
    "    Args:\n",
    "    - N : the number of nodes\n",
    "    - E : the number of edges\n",
    "    - p : probability of a node being connected another\n",
    "    \n",
    "    Return:\n",
    "    - Undirected Random Graph that has N nodes and E edges\n",
    "    \"\"\"\n",
    "    \n",
    "    UG = snap.PUNGraph.New()\n",
    "    \n",
    "    nodes = range(N)\n",
    "    for node in nodes:\n",
    "        UG.AddNode(node)\n",
    "\n",
    "    while UG.GetEdges() < E:\n",
    "        for node in nodes:\n",
    "            node_dst = np.random.binomial(n=N-1, p=p, size=1)[0]\n",
    "            if node != node_dst: # self-edge (x)\n",
    "                UG.AddEdge(node, int(node_dst))\n",
    "            \n",
    "            if UG.GetEdges() == E:\n",
    "                break\n",
    "        \n",
    "    return UG"
   ]
  },
  {
   "cell_type": "code",
   "execution_count": 3,
   "metadata": {},
   "outputs": [],
   "source": [
    "np.random.seed(223) # 223 is my birthday haha\n",
    "er_UG = create_erdos_renyi_random_graph(N=5242, E=14484, p=0.5)"
   ]
  },
  {
   "cell_type": "code",
   "execution_count": 4,
   "metadata": {},
   "outputs": [
    {
     "name": "stdout",
     "output_type": "stream",
     "text": [
      "The number of nodes in a Erdős-Rényi Random Graph:  5242\n",
      "The number of edges in a Erdős-Rényi Random Graph:  14484\n"
     ]
    }
   ],
   "source": [
    "print('The number of nodes in a Erdős-Rényi Random Graph: ',er_UG.GetNodes())\n",
    "print('The number of edges in a Erdős-Rényi Random Graph: ',er_UG.GetEdges())"
   ]
  },
  {
   "cell_type": "markdown",
   "metadata": {},
   "source": [
    "Small-World Random Network: Generate an instance from this model as follows: begin with n = 5242 nodes arranged as a ring, i.e., imagine the nodes form a circle and each node is connected to its two direct neighbors (e.g., node 399 is connected to nodes 398 and 400), giving us 5242 edges. Next, connect each node to the neighbors of its neighbors (e.g., node 399 is also connected to nodes 397 and 401). This gives us another 5242 edges. Finally, randomly select 4000 pairs of nodes not yet connected and add an edge between them. In total, this will make m = 5242 · 2 + 4000 = 14484 edges. Write code to construct instances of this model, i.e., do not call a SNAP function."
   ]
  },
  {
   "cell_type": "code",
   "execution_count": 5,
   "metadata": {},
   "outputs": [],
   "source": [
    "def create_small_world_random_graph(N: int, E: int, verbose=False):\n",
    "    \"\"\"\n",
    "    Small-World Random Graph\n",
    "    \n",
    "    This is a undirected graph that has 3-steps as follow.\n",
    "    - Step 1 : First, each node is connected to its two direct neighbors. Then, N edges is added in the graph.\n",
    "    - Step 2 : Next, each node is connected to the neighbors of its neighbors. N edges is added in the graph as like before.\n",
    "    - Step 3 : Finally, randomly select E-2N pairs of nodes not yet connected and add an edge between them.\n",
    "    \n",
    "    Args:\n",
    "    - N : the number of nodes\n",
    "    - E : the number of edges\n",
    "    \n",
    "    Return:\n",
    "    - Undirected Random Graph that has N nodes and E edges\n",
    "    \n",
    "    \"\"\"\n",
    "    \n",
    "    UG = snap.PUNGraph.New()\n",
    "    \n",
    "    nodes = range(N)\n",
    "    \n",
    "    for node in nodes:\n",
    "        UG.AddNode(node)\n",
    "    \n",
    "    # step 1\n",
    "    for node in nodes:\n",
    "        if node == len(nodes)-1:\n",
    "            UG.AddEdge(node, 0)\n",
    "        else:\n",
    "            UG.AddEdge(node, node+1)\n",
    "    \n",
    "    if verbose:\n",
    "        print('The number of edges in step 1: ',UG.GetEdges())\n",
    "    \n",
    "    # step 2\n",
    "    for node in nodes:\n",
    "        if node == len(nodes)-2:\n",
    "            UG.AddEdge(node, 0)\n",
    "        elif node == len(nodes)-1:\n",
    "            UG.AddEdge(node, 1)\n",
    "        else:\n",
    "            UG.AddEdge(node, node+2)\n",
    "            \n",
    "    if verbose:\n",
    "        print('The number of edges in step 2: ',UG.GetEdges())\n",
    "    \n",
    "    # step 3\n",
    "    while UG.GetEdges() < E:\n",
    "        for node in nodes:\n",
    "            node_dst = np.random.randint(low=0, high=len(nodes), size=1)[0]\n",
    "            \n",
    "            if node != node_dst: # self-edges (x)\n",
    "                UG.AddEdge(node, int(node_dst))\n",
    "            \n",
    "            if UG.GetEdges() == E:\n",
    "                break\n",
    "                \n",
    "    if verbose:\n",
    "        print('The number of edges in step 2: ',UG.GetEdges())\n",
    "            \n",
    "    return UG"
   ]
  },
  {
   "cell_type": "code",
   "execution_count": 6,
   "metadata": {},
   "outputs": [
    {
     "name": "stdout",
     "output_type": "stream",
     "text": [
      "The number of edges in step 1:  5242\n",
      "The number of edges in step 2:  10484\n",
      "The number of edges in step 2:  14484\n"
     ]
    }
   ],
   "source": [
    "np.random.seed(223) # 223 is my birthday huhu\n",
    "sw_UG = create_small_world_random_graph(N=5242, E=14484, verbose=True)"
   ]
  },
  {
   "cell_type": "code",
   "execution_count": 7,
   "metadata": {},
   "outputs": [
    {
     "name": "stdout",
     "output_type": "stream",
     "text": [
      "The number of nodes in a small-world random graph:  5242\n",
      "The number of edges in a small-world random graph:  14484\n"
     ]
    }
   ],
   "source": [
    "print('The number of nodes in a small-world random graph: ',sw_UG.GetNodes())\n",
    "print('The number of edges in a small-world random graph: ',sw_UG.GetEdges())"
   ]
  },
  {
   "cell_type": "markdown",
   "metadata": {},
   "source": [
    "Real-World Collaboration Network: Download this undirected network from http://snap.stanford.edu/data/ca-GrQc.txt.gz. Nodes in this network represent authors of research papers on the arXiv in the General Relativity and Quantum Cosmology section. There is an edge between two authors if they have co-authored at least one paper together. Note that some edges may appear twice in the data, once for each direction. Ignoring repeats and self-edges, there are 5242 nodes and 14484 edges. (Note: Repeats are automatically ignored when loading an (un)directed graph with SNAP’s LoadEdgeList function)."
   ]
  },
  {
   "cell_type": "code",
   "execution_count": 8,
   "metadata": {},
   "outputs": [],
   "source": [
    "rw_UG = snap.LoadEdgeList(snap.TUNGraph, \"../data/ca-GrQc.txt\",0,1)"
   ]
  },
  {
   "cell_type": "code",
   "execution_count": 9,
   "metadata": {},
   "outputs": [
    {
     "name": "stdout",
     "output_type": "stream",
     "text": [
      "The number of nodes in a real-world network:  5242\n",
      "The number of edges in a real-world network:  14496\n"
     ]
    }
   ],
   "source": [
    "print('The number of nodes in a real-world network: ',rw_UG.GetNodes())\n",
    "print('The number of edges in a real-world network: ',rw_UG.GetEdges())"
   ]
  },
  {
   "cell_type": "code",
   "execution_count": 10,
   "metadata": {},
   "outputs": [
    {
     "name": "stdout",
     "output_type": "stream",
     "text": [
      "The number of self-edges in a real-world network:  12\n"
     ]
    }
   ],
   "source": [
    "print('The number of self-edges in a real-world network: ', rw_UG.CntSelfEdges())"
   ]
  },
  {
   "cell_type": "markdown",
   "metadata": {},
   "source": [
    "`snap.TUNGraph` cannot ingore self-edges. Therefore, I remove self-edges."
   ]
  },
  {
   "cell_type": "code",
   "execution_count": 11,
   "metadata": {},
   "outputs": [
    {
     "name": "stdout",
     "output_type": "stream",
     "text": [
      "The number of edges in a real-world network:  14484\n"
     ]
    }
   ],
   "source": [
    "rw_UG.DelSelfEdges()\n",
    "print('The number of edges in a real-world network: ',rw_UG.GetEdges())"
   ]
  },
  {
   "cell_type": "markdown",
   "metadata": {},
   "source": [
    "## Degree Distribution [12 points]"
   ]
  },
  {
   "cell_type": "markdown",
   "metadata": {},
   "source": [
    "Generate a random graph from both the Erdős-Rényi (i.e., G(n, m)) and Small-World models and read in the collaboration network. Delete all of the self-edges in the collaboration network (there should be 14,484 total edges remaining). Plot the degree distribution of all three networks in the same plot on a log-log scale. In other words, generate a plot with the horizontal axis representing node degrees and the vertical axis representing the proportion of nodes with a given degree (by “log-log scale” we mean that both the horizontal and vertical axis must be in logarithmic scale). In one to two sentences, describe one key difference between the degree distribution of the collaboration network and the degree distributions of the random graph models."
   ]
  },
  {
   "cell_type": "markdown",
   "metadata": {},
   "source": [
    "TODO\n",
    "1. collaboration network를 읽으라는게 무슨말이지 -> real world network\n",
    "2. degree의 proportion을 계산하는게 맞는건가 -> 그냥 log scale만 하는게 맞는듯"
   ]
  },
  {
   "cell_type": "code",
   "execution_count": 12,
   "metadata": {},
   "outputs": [],
   "source": [
    "er_deg_df = pd.DataFrame({'deg':[item.GetVal1() for item in er_UG.GetDegCnt()],\n",
    "                          'cnt':[item.GetVal2() for item in er_UG.GetDegCnt()]})\n",
    "\n",
    "sw_deg_df = pd.DataFrame({'deg':[item.GetVal1() for item in sw_UG.GetDegCnt()],\n",
    "                          'cnt':[item.GetVal2() for item in sw_UG.GetDegCnt()]})\n",
    "\n",
    "rw_deg_df = pd.DataFrame({'deg':[item.GetVal1() for item in rw_UG.GetDegCnt()],\n",
    "                          'cnt':[item.GetVal2() for item in rw_UG.GetDegCnt()]})\n",
    "\n",
    "# the proportion of nodes with a given degree\n",
    "# er_deg_df['p'] = er_deg_df['cnt'] / er_deg_df['cnt'].sum(axis=0)\n",
    "# sw_deg_df['p'] = sw_deg_df['cnt'] / sw_deg_df['cnt'].sum(axis=0)\n",
    "# rw_deg_df['p'] = rw_deg_df['cnt'] / rw_deg_df['cnt'].sum(axis=0)"
   ]
  },
  {
   "cell_type": "code",
   "execution_count": 13,
   "metadata": {},
   "outputs": [
    {
     "data": {
      "text/plain": [
       "Text(0, 0.5, 'log(the number of degree)')"
      ]
     },
     "execution_count": 13,
     "metadata": {},
     "output_type": "execute_result"
    },
    {
     "data": {
      "image/png": "[encoded data removed]",
      "text/plain": [
       "<Figure size 432x288 with 1 Axes>"
      ]
     },
     "metadata": {
      "needs_background": "light"
     },
     "output_type": "display_data"
    }
   ],
   "source": [
    "plt.loglog('deg', 'cnt', data=er_deg_df)\n",
    "plt.loglog('deg', 'cnt', data=sw_deg_df)\n",
    "plt.loglog('deg', 'cnt', data=rw_deg_df)\n",
    "plt.legend(['Erdős-Rényi Random Graph','Small-world Random Graph','Real World Network'])\n",
    "plt.xlabel('log(Degree)')\n",
    "plt.ylabel('log(the number of degree)')"
   ]
  },
  {
   "cell_type": "markdown",
   "metadata": {},
   "source": [
    "## Clustering Coefficient [13 points]"
   ]
  },
  {
   "cell_type": "code",
   "execution_count": 14,
   "metadata": {},
   "outputs": [],
   "source": [
    "def calc_clustering_coef(G):\n",
    "    \"\"\"\n",
    "    Calculate clustering coefficient of a undirected graph\n",
    "    \n",
    "    Args:\n",
    "    - G: Graph class i.e. PUNGraph\n",
    "    \n",
    "    Return:\n",
    "    - C: Clustering coefficient\n",
    "    \"\"\"\n",
    "    \n",
    "    c_i_lst = []\n",
    "    \n",
    "    for NI in G.Nodes():\n",
    "        # get k_i\n",
    "        k_i = NI.GetDeg()\n",
    "\n",
    "        # get e_i\n",
    "        nbr_lst = []\n",
    "        for idx in range(k_i):\n",
    "            nbr_lst.append(NI.GetNbrNId(idx))\n",
    "\n",
    "        if len(nbr_lst) < 2:\n",
    "            e_i = 0\n",
    "        else:\n",
    "            e_i = []\n",
    "            for pair_node in itertools.combinations(nbr_lst, r=2):\n",
    "                e_i.append(G.IsEdge(pair_node[0], pair_node[1]))\n",
    "            e_i = np.sum(e_i)    \n",
    "\n",
    "        # get c_i\n",
    "        if e_i == 0:\n",
    "            c_i = 0\n",
    "        else:\n",
    "            c_i = 2*e_i / (k_i * (k_i - 1))\n",
    "\n",
    "        c_i_lst.append(c_i)\n",
    "\n",
    "    C = np.sum(c_i_lst) / G.GetNodes()\n",
    "\n",
    "    return C"
   ]
  },
  {
   "cell_type": "code",
   "execution_count": 15,
   "metadata": {},
   "outputs": [
    {
     "name": "stdout",
     "output_type": "stream",
     "text": [
      "The Clustering Coefficient of Erdős-Rényi Random Graph:  0.04559557590235959\n",
      "The Clustering Coefficient of Erdős-Rényi Random Graph:  0.045595575902359874\n"
     ]
    }
   ],
   "source": [
    "print('The Clustering Coefficient of Erdős-Rényi Random Graph: ',calc_clustering_coef(er_UG))\n",
    "print('The Clustering Coefficient of Erdős-Rényi Random Graph: ', er_UG.GetClustCf(-1))"
   ]
  },
  {
   "cell_type": "code",
   "execution_count": 16,
   "metadata": {},
   "outputs": [
    {
     "name": "stdout",
     "output_type": "stream",
     "text": [
      "The Clustering Coefficient of Small-world Random Graph:  0.26844973141234113\n",
      "The Clustering Coefficient of Small-world Random Graph:  0.2684497314123356\n"
     ]
    }
   ],
   "source": [
    "print('The Clustering Coefficient of Small-world Random Graph: ',calc_clustering_coef(sw_UG))\n",
    "print('The Clustering Coefficient of Small-world Random Graph: ', sw_UG.GetClustCf(-1))"
   ]
  },
  {
   "cell_type": "code",
   "execution_count": 17,
   "metadata": {},
   "outputs": [
    {
     "name": "stdout",
     "output_type": "stream",
     "text": [
      "The Clustering Coefficient of Real World Network:  0.5296358110521362\n",
      "The Clustering Coefficient of Real World Network:  0.5296358110521371\n"
     ]
    }
   ],
   "source": [
    "print('The Clustering Coefficient of Real World Network: ',calc_clustering_coef(rw_UG))\n",
    "print('The Clustering Coefficient of Real World Network: ', rw_UG.GetClustCf(-1))"
   ]
  },
  {
   "cell_type": "markdown",
   "metadata": {},
   "source": [
    "# Structural Roles: Rolx and ReFex [25 points]"
   ]
  },
  {
   "cell_type": "markdown",
   "metadata": {},
   "source": [
    "n this problem, we will explore the structural role extraction algorithm Rolx and its recursive feature extraction method ReFex. As part of this exploration, we will work with a dataset rep- resenting a scientist co-authorship network, which can be dowloaded at http://www-personal. umich.edu/~mejn/netdata/netscience.zip. 1 Although the graph is weighted, for simplicity we treat it as undirected and unweighted in this problem.\n",
    "\n",
    "Feature extraction consists of two steps; we first extract basic local features from every node, and we subsequently aggregate them along graph edges so that global features are also obtained. Collectively, feature extraction constructs a matrix V ∈ R n×f where for each of the n nodes we have f features to cover local and global information. Rolx extracts node roles from that matrix."
   ]
  },
  {
   "cell_type": "code",
   "execution_count": 18,
   "metadata": {},
   "outputs": [],
   "source": [
    "FIn = snap.TFIn(\"../saved_graph/hw1-q2.graph\")\n",
    "sci_G = snap.TUNGraph.Load(FIn)"
   ]
  },
  {
   "cell_type": "markdown",
   "metadata": {},
   "source": [
    "## Basic Features [5 points]"
   ]
  },
  {
   "cell_type": "markdown",
   "metadata": {},
   "source": [
    "We begin by loading the graph G provided in the bundle and computing three basic features for the nodes. For each node v, we choose 3 basic local features (in this order):"
   ]
  },
  {
   "cell_type": "code",
   "execution_count": 19,
   "metadata": {},
   "outputs": [],
   "source": [
    "def ext_egonet_features(G, v):\n",
    "    \"\"\"\n",
    "    Extract egonet features of node v\n",
    "    \n",
    "    Args:\n",
    "    - G: Graph class\n",
    "    - v: node id\n",
    "    \n",
    "    Return: \n",
    "    - deg_v: the degree of node v\n",
    "    - egonet_deg_v: the number of edges in the egonet of node v\n",
    "    - egonet_edge_v: the number of edges that connect the egonet of node v and the rest of the graph\n",
    "    \"\"\"\n",
    "\n",
    "    # get the degree of node v\n",
    "    deg_lst = [NI.GetDeg() for NI in G.Nodes()]\n",
    "    deg_v = deg_lst[v]\n",
    "\n",
    "    # get the number of edges that connect the egonet of node v and the rest of the graph\n",
    "    egonet_v, egonet_edge_v = G.GetEgonet(v)\n",
    "\n",
    "    # get the degree in the egonet of node v\n",
    "    ids = [NI.GetId() for NI in egonet_v.Nodes()]\n",
    "    egonet_deg_v = []\n",
    "    for pair_node in itertools.combinations(ids, r=2):\n",
    "            egonet_deg_v.append(G.IsEdge(pair_node[0], pair_node[1]))\n",
    "    \n",
    "    egonet_deg_v = np.sum(egonet_deg_v)\n",
    "        \n",
    "    return deg_v, egonet_deg_v, egonet_edge_v"
   ]
  },
  {
   "cell_type": "markdown",
   "metadata": {},
   "source": [
    "1. the degree of v, i.e., deg(v);\n",
    "\n",
    "2. the number of edges in the egonet of v, where egonet of v is defined as the subgraph of G\n",
    "induced by v and its neighborhood;\n",
    "\n",
    "3. the number of edges that connect the egonet of v and the rest of the graph, i.e., the number of edges that enter or leave the egonet of v."
   ]
  },
  {
   "cell_type": "code",
   "execution_count": 20,
   "metadata": {},
   "outputs": [],
   "source": [
    "def calc_cos_sim(x, y):\n",
    "    \"\"\"\n",
    "    Calcuate cosine similarity of x and y\n",
    "    \n",
    "    Args:\n",
    "    - x: vector\n",
    "    - y: vector\n",
    "    \n",
    "    Return:\n",
    "    - cos_sim: cosine similarity\n",
    "    \"\"\"\n",
    "    \n",
    "    x = np.array(x)\n",
    "    y = np.array(y)\n",
    "    \n",
    "    if np.sqrt(np.sum(x**2)) == 0 or np.sqrt(np.sum(y**2)) == 0:\n",
    "        return 0\n",
    "    else:\n",
    "        cos_sim = np.sum(x*y) / (np.sqrt(np.sum(x**2)) * np.sqrt(np.sum(y**2)))\n",
    "        return cos_sim"
   ]
  },
  {
   "cell_type": "markdown",
   "metadata": {},
   "source": [
    "We use Ṽ u to represent the vector of the basic features of node u. For any pair of nodes u and v, we can use cosine similarity to measure how similar two nodes are according to their feature vectors x and y"
   ]
  },
  {
   "cell_type": "markdown",
   "metadata": {},
   "source": [
    "Compute the basic feature vector for the node with ID 9, and report the top 5 nodes that are most similar to node 9 (excluding node 9). As a sanity check, no element in Ṽ 9 is larger than 10."
   ]
  },
  {
   "cell_type": "code",
   "execution_count": 21,
   "metadata": {},
   "outputs": [],
   "source": [
    "ids = [NI.GetId() for NI in sci_G.Nodes()]\n",
    "egonet_features = dict([(v,ext_egonet_features(G=sci_G, v=v)) for v in ids])"
   ]
  },
  {
   "cell_type": "code",
   "execution_count": 43,
   "metadata": {},
   "outputs": [
    {
     "name": "stdout",
     "output_type": "stream",
     "text": [
      "The top 5 nodes that are most similar to node 9 (excluding node 9)\n",
      "Node ID: 415 Cosine Similarity: 0.9996157540684272\n",
      "Node ID: 286 Cosine Similarity: 0.996343680627828\n",
      "Node ID: 288 Cosine Similarity: 0.996343680627828\n",
      "Node ID: 1054 Cosine Similarity: 0.9961182380000687\n",
      "Node ID: 1336 Cosine Similarity: 0.9961182380000687\n"
     ]
    }
   ],
   "source": [
    "cos_sim_lst = []\n",
    "for id_v, egonet_feature in egonet_features.items():\n",
    "    cos_sim = calc_cos_sim(x=egonet_features[9], y=egonet_features[id_v])\n",
    "    cos_sim_lst.append(cos_sim)\n",
    "cos_sim_lst = np.array(cos_sim_lst)\n",
    "\n",
    "top5_index = cos_sim_lst.argsort()[-6:-1][::-1] # exclude self cos-sim\n",
    "print('The top 5 nodes that are most similar to node 9 (excluding node 9)')\n",
    "for idx in top5_index:\n",
    "    print(f'Node ID: {np.array(list(egonet_features.keys()))[idx]} Cosine Similarity: {cos_sim_lst[idx]}')"
   ]
  },
  {
   "cell_type": "code",
   "execution_count": 24,
   "metadata": {},
   "outputs": [
    {
     "data": {
      "text/plain": [
       "(6, 10, 1)"
      ]
     },
     "execution_count": 24,
     "metadata": {},
     "output_type": "execute_result"
    }
   ],
   "source": [
    "egonet_features[9]"
   ]
  },
  {
   "cell_type": "markdown",
   "metadata": {},
   "source": [
    "## Recursive Features [8 points]"
   ]
  },
  {
   "cell_type": "markdown",
   "metadata": {},
   "source": [
    "In this next step, we recursively generate some more features. We use mean and sum as aggregation functions.\n",
    "\n",
    "Initially, we have a feature vector Ṽ u ∈ R 3 for every node u. In the first iteration, we concatenate the mean of all u’s neighbors’ feature vectors to Ṽ u , and do the same for sum, i.e.,\n",
    "\n",
    "![Screenshot from 2021-01-12 14-50-01](https://user-images.githubusercontent.com/37654013/104275166-a9ec1f00-54e5-11eb-96e3-31c20d856558.png)\n",
    "\n",
    "where N (u) is the set of u’s neighbors in the graph. If N (u) = ∅, set the mean and sum to 0. K+1 After K iterations, we obtain the overall feature matrix V = Ṽ (K) ∈ R^3.\n",
    "\n",
    "\n",
    "For this exercise, run K = 2 iterations, and report the top 5 nodes that are most similar to node 9 (excluding node 9). If there are ties, e.g. 4th, 5th, and 6th have the same similarity, report any of them to fill up the top-5 ranking. As a sanity check, the similarities between the reported nodes and node 9 are all greater than 0.9. [5 points]\n",
    "\n",
    "\n",
    "Compare your obtained top 5 nodes with previous results from 2.1. In particular, are there common nodes? Are there different nodes? In one sentence, why would this change? [3 points]"
   ]
  },
  {
   "cell_type": "code",
   "execution_count": 37,
   "metadata": {},
   "outputs": [],
   "source": [
    "def calc_recursive_features(G, v, feature_dict):\n",
    "    \"\"\"\n",
    "    Calculate recursive features\n",
    "    \n",
    "    Args:\n",
    "    - G: Graph class\n",
    "    - v: node id\n",
    "    - feature_dict: feature dictionary. key is a node id and value is a feature vector\n",
    "    \n",
    "    Return:\n",
    "    - v_lst: feature vector of node v, \n",
    "           mean of feature vectors of neighbors of node v,\n",
    "           sum of feature vectors of neighbors of node v \n",
    "           \n",
    "    \"\"\"\n",
    "    v_lst = []\n",
    "    \n",
    "    egonet_v, egonet_edge_v = G.GetEgonet(v)\n",
    "    ids = [NI.GetId() for NI in egonet_v.Nodes()]\n",
    "    \n",
    "    if len(ids) == 0:\n",
    "        v_lst.extend(feature_dict[v])\n",
    "        v_lst.extend([0,0,0])\n",
    "        v_lst.extend([0,0,0])\n",
    "    else:\n",
    "        features_v_lst = []\n",
    "        for id_ in ids:\n",
    "            features_v_lst.append(feature_dict[id_])\n",
    "\n",
    "        features_v_lst = np.array(features_v_lst)\n",
    "\n",
    "        mean_features_v = np.mean(features_v_lst, axis=0)\n",
    "        sum_features_v = np.sum(features_v_lst, axis=0)\n",
    "\n",
    "        v_lst.extend(feature_dict[v])\n",
    "        v_lst.extend(mean_features_v)\n",
    "        v_lst.extend(sum_features_v)\n",
    "        \n",
    "    return v_lst"
   ]
  },
  {
   "cell_type": "code",
   "execution_count": 38,
   "metadata": {},
   "outputs": [],
   "source": [
    "ids = [NI.GetId() for NI in sci_G.Nodes()]\n",
    "egonet_features_k1 = dict([(v, calc_recursive_features(G=sci_G, v=v, feature_dict=egonet_features)) for v in ids])\n",
    "egonet_features_k2 = dict([(v, calc_recursive_features(G=sci_G, v=v, feature_dict=egonet_features_k1)) for v in ids])"
   ]
  },
  {
   "cell_type": "code",
   "execution_count": 44,
   "metadata": {},
   "outputs": [
    {
     "name": "stdout",
     "output_type": "stream",
     "text": [
      "The top 5 nodes that are most similar to node 9 (excluding node 9)\n",
      "Node ID: 973 Cosine Similarity: 0.9979486897341374\n",
      "Node ID: 296 Cosine Similarity: 0.9977059355583994\n",
      "Node ID: 25 Cosine Similarity: 0.9974799455305546\n",
      "Node ID: 24 Cosine Similarity: 0.9974799455305546\n",
      "Node ID: 7 Cosine Similarity: 0.9972974755155335\n"
     ]
    }
   ],
   "source": [
    "cos_sim_lst = []\n",
    "for id_v, egonet_feature in egonet_features.items():\n",
    "    cos_sim = calc_cos_sim(x=egonet_features_k2[9], y=egonet_features_k2[id_v])\n",
    "    cos_sim_lst.append(cos_sim)\n",
    "cos_sim_lst = np.array(cos_sim_lst)\n",
    "\n",
    "top5_index = cos_sim_lst.argsort()[-6:-1][::-1] # exclude self cos-sim\n",
    "print('The top 5 nodes that are most similar to node 9 (excluding node 9)')\n",
    "for idx in top5_index:\n",
    "    print(f'Node ID: {np.array(list(egonet_features.keys()))[idx]} Cosine Similarity: {cos_sim_lst[idx]}')"
   ]
  },
  {
   "cell_type": "markdown",
   "metadata": {},
   "source": [
    "## Role Discovery [12 points]"
   ]
  },
  {
   "cell_type": "markdown",
   "metadata": {},
   "source": [
    "In this part, we explore more about the graph according to the recursive feature vectors of nodes and node similarity."
   ]
  },
  {
   "cell_type": "markdown",
   "metadata": {},
   "source": [
    "(a) Produce a 20-bin histogram to show the distribution of cosine similarity between node 9 and any other node in the graph (according to their recursive feature vectors). Note here that the x-axis is cosine similarity with node 9, and the y-axis is the number of nodes. [3 points] \n",
    "\n",
    "According to the histogram, can you spot some groups / roles? How many can you spot? (Clue: look for the spikes! ) [2 points]"
   ]
  },
  {
   "cell_type": "code",
   "execution_count": 48,
   "metadata": {},
   "outputs": [
    {
     "data": {
      "text/plain": [
       "(array([128.,   0.,   0.,   0.,   0.,   0.,   0.,   0.,   0.,   0.,   0.,\n",
       "          0.,   0.,   4.,  18., 289., 126., 470., 276., 278.]),\n",
       " array([0.  , 0.05, 0.1 , 0.15, 0.2 , 0.25, 0.3 , 0.35, 0.4 , 0.45, 0.5 ,\n",
       "        0.55, 0.6 , 0.65, 0.7 , 0.75, 0.8 , 0.85, 0.9 , 0.95, 1.  ]),\n",
       " <BarContainer object of 20 artists>)"
      ]
     },
     "execution_count": 48,
     "metadata": {},
     "output_type": "execute_result"
    },
    {
     "data": {
      "image/png": "[encoded data removed]",
      "text/plain": [
       "<Figure size 432x288 with 1 Axes>"
      ]
     },
     "metadata": {
      "needs_background": "light"
     },
     "output_type": "display_data"
    }
   ],
   "source": [
    "plt.hist(cos_sim_lst, bins=20)"
   ]
  },
  {
   "cell_type": "markdown",
   "metadata": {},
   "source": [
    "(b) For these groups / roles in the cosine similarity histogram, take one node u from each group to examine the feature vector, and draw the subgraph of the node based on its feature vector. You can draw the subgraph by hand, or you can use libraries such as networkx or graphviz.\n",
    "\n",
    "\n",
    "For these drawings, you should use the local features for u, and pay attention to the features aggregated from its 1-hop neighbors, but feel free to ignore further features if they are difficult to incorporate. Also, you should not draw nodes that are more than 3-hops away from u. [6 points]\n",
    "\n",
    "\n",
    "Briefly argue how different structural roles are captured in 1-2 sentences. [1 point]"
   ]
  },
  {
   "cell_type": "markdown",
   "metadata": {},
   "source": [
    "TODO\n",
    "- png파일로 안나오고 dot으로 나옴"
   ]
  },
  {
   "cell_type": "code",
   "execution_count": 49,
   "metadata": {},
   "outputs": [],
   "source": [
    "labels = {}\n",
    "egonet_v, _ = sci_G.GetEgonet(9)\n",
    "for NI in egonet_v.Nodes():\n",
    "    labels[NI.GetId()] = str(NI.GetId())"
   ]
  },
  {
   "cell_type": "code",
   "execution_count": 51,
   "metadata": {},
   "outputs": [],
   "source": [
    "egonet_v.DrawGViz(snap.gvlDot, \"sci_G_node9.png\",\" \",labels)"
   ]
  },
  {
   "cell_type": "markdown",
   "metadata": {},
   "source": [
    "# Community detection using the Louvain algorithm [25 points]"
   ]
  },
  {
   "cell_type": "code",
   "execution_count": null,
   "metadata": {},
   "outputs": [],
   "source": []
  },
  {
   "cell_type": "markdown",
   "metadata": {},
   "source": [
    "## Modularity gain when an isolated node moves into a community [4 points]"
   ]
  },
  {
   "cell_type": "markdown",
   "metadata": {},
   "source": [
    "## Louvain algorithm on a 16 node network [10 points]"
   ]
  },
  {
   "cell_type": "markdown",
   "metadata": {},
   "source": [
    "## Louvain algorithm on a 128 node network [10 points]"
   ]
  },
  {
   "cell_type": "markdown",
   "metadata": {},
   "source": [
    "## What just happened? [1 point]"
   ]
  },
  {
   "cell_type": "markdown",
   "metadata": {},
   "source": [
    "# Spectral clustering [25 points]"
   ]
  },
  {
   "cell_type": "markdown",
   "metadata": {},
   "source": [
    "## A Spectral Algorithm for Normalized Cut Minimization: Foundations [10\n",
    "points]"
   ]
  },
  {
   "cell_type": "markdown",
   "metadata": {},
   "source": [
    "## Normalized Cut Minimization: Solving for the Minimizer [8 points]"
   ]
  },
  {
   "cell_type": "markdown",
   "metadata": {},
   "source": [
    "## Relating Modularity to Cuts and Volumes [7 points]"
   ]
  },
  {
   "cell_type": "code",
   "execution_count": null,
   "metadata": {},
   "outputs": [],
   "source": []
  }
 ],
 "metadata": {
  "kernelspec": {
   "display_name": "Python 3",
   "language": "python",
   "name": "python3"
  },
  "language_info": {
   "codemirror_mode": {
    "name": "ipython",
    "version": 3
   },
   "file_extension": ".py",
   "mimetype": "text/x-python",
   "name": "python",
   "nbconvert_exporter": "python",
   "pygments_lexer": "ipython3",
   "version": "3.8.3"
  }
 },
 "nbformat": 4,
 "nbformat_minor": 4
}
